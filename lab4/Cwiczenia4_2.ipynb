{
 "cells": [
  {
   "cell_type": "markdown",
   "metadata": {
    "application/vnd.databricks.v1+cell": {
     "cellMetadata": {
      "byteLimit": 2048000,
      "rowLimit": 10000
     },
     "inputWidgets": {},
     "nuid": "a41d50cc-31fb-40e8-acd0-40678fd09a1d",
     "showTitle": false,
     "tableResultSettingsMap": {},
     "title": ""
    }
   },
   "source": [
    "# Zadanie 3"
   ]
  },
  {
   "cell_type": "code",
   "execution_count": 0,
   "metadata": {
    "application/vnd.databricks.v1+cell": {
     "cellMetadata": {
      "byteLimit": 2048000,
      "rowLimit": 10000
     },
     "inputWidgets": {},
     "nuid": "64b1e33e-a138-4e80-8267-84ec9f48269e",
     "showTitle": false,
     "tableResultSettingsMap": {},
     "title": ""
    }
   },
   "outputs": [
    {
     "output_type": "display_data",
     "data": {
      "text/html": [
       "<style scoped>\n",
       "  .table-result-container {\n",
       "    max-height: 300px;\n",
       "    overflow: auto;\n",
       "  }\n",
       "  table, th, td {\n",
       "    border: 1px solid black;\n",
       "    border-collapse: collapse;\n",
       "  }\n",
       "  th, td {\n",
       "    padding: 5px;\n",
       "  }\n",
       "  th {\n",
       "    text-align: left;\n",
       "  }\n",
       "</style><div class='table-result-container'><table class='table-result'><thead style='background-color: white'><tr><th>AccountId</th><th>TranDate</th><th>TranAmt</th></tr></thead><tbody><tr><td>1</td><td>2011-01-01</td><td>500</td></tr><tr><td>1</td><td>2011-01-15</td><td>50</td></tr><tr><td>1</td><td>2011-01-22</td><td>250</td></tr><tr><td>1</td><td>2011-01-24</td><td>75</td></tr><tr><td>1</td><td>2011-01-26</td><td>125</td></tr><tr><td>1</td><td>2011-01-28</td><td>175</td></tr><tr><td>2</td><td>2011-01-01</td><td>500</td></tr><tr><td>2</td><td>2011-01-15</td><td>50</td></tr><tr><td>2</td><td>2011-01-22</td><td>25</td></tr><tr><td>2</td><td>2011-01-23</td><td>125</td></tr><tr><td>2</td><td>2011-01-26</td><td>200</td></tr><tr><td>2</td><td>2011-01-29</td><td>250</td></tr><tr><td>3</td><td>2011-01-01</td><td>500</td></tr><tr><td>3</td><td>2011-01-15</td><td>50</td></tr><tr><td>3</td><td>2011-01-22</td><td>5000</td></tr><tr><td>3</td><td>2011-01-25</td><td>550</td></tr><tr><td>3</td><td>2011-01-27</td><td>95</td></tr><tr><td>3</td><td>2011-01-30</td><td>2500</td></tr></tbody></table></div>"
      ]
     },
     "metadata": {
      "application/vnd.databricks.v1+output": {
       "addedWidgets": {},
       "aggData": [],
       "aggError": "",
       "aggOverflow": false,
       "aggSchema": [],
       "aggSeriesLimitReached": false,
       "aggType": "",
       "arguments": {},
       "columnCustomDisplayInfos": {},
       "data": [
        [
         1,
         "2011-01-01",
         500
        ],
        [
         1,
         "2011-01-15",
         50
        ],
        [
         1,
         "2011-01-22",
         250
        ],
        [
         1,
         "2011-01-24",
         75
        ],
        [
         1,
         "2011-01-26",
         125
        ],
        [
         1,
         "2011-01-28",
         175
        ],
        [
         2,
         "2011-01-01",
         500
        ],
        [
         2,
         "2011-01-15",
         50
        ],
        [
         2,
         "2011-01-22",
         25
        ],
        [
         2,
         "2011-01-23",
         125
        ],
        [
         2,
         "2011-01-26",
         200
        ],
        [
         2,
         "2011-01-29",
         250
        ],
        [
         3,
         "2011-01-01",
         500
        ],
        [
         3,
         "2011-01-15",
         50
        ],
        [
         3,
         "2011-01-22",
         5000
        ],
        [
         3,
         "2011-01-25",
         550
        ],
        [
         3,
         "2011-01-27",
         95
        ],
        [
         3,
         "2011-01-30",
         2500
        ]
       ],
       "datasetInfos": [],
       "dbfsResultPath": null,
       "isJsonSchema": true,
       "metadata": {},
       "overflow": false,
       "plotOptions": {
        "customPlotOptions": {},
        "displayType": "table",
        "pivotAggregation": null,
        "pivotColumns": null,
        "xColumns": null,
        "yColumns": null
       },
       "removedWidgets": [],
       "schema": [
        {
         "metadata": "{}",
         "name": "AccountId",
         "type": "\"long\""
        },
        {
         "metadata": "{}",
         "name": "TranDate",
         "type": "\"date\""
        },
        {
         "metadata": "{}",
         "name": "TranAmt",
         "type": "\"long\""
        }
       ],
       "type": "table"
      }
     },
     "output_type": "display_data"
    }
   ],
   "source": [
    "from pyspark.sql import SparkSession\n",
    "from pyspark.sql.functions import col, sum, avg, min, max, count\n",
    "from pyspark.sql.window import Window\n",
    "spark = SparkSession.builder.appName(\"WindowFunctions\").getOrCreate()\n",
    "\n",
    "data = [\n",
    "    (1, \"2011-01-01\", 500),\n",
    "    (1, \"2011-01-15\", 50),\n",
    "    (1, \"2011-01-22\", 250),\n",
    "    (1, \"2011-01-24\", 75),\n",
    "    (1, \"2011-01-26\", 125),\n",
    "    (1, \"2011-01-28\", 175),\n",
    "    (2, \"2011-01-01\", 500),\n",
    "    (2, \"2011-01-15\", 50),\n",
    "    (2, \"2011-01-22\", 25),\n",
    "    (2, \"2011-01-23\", 125),\n",
    "    (2, \"2011-01-26\", 200),\n",
    "    (2, \"2011-01-29\", 250),\n",
    "    (3, \"2011-01-01\", 500),\n",
    "    (3, \"2011-01-15\", 50),\n",
    "    (3, \"2011-01-22\", 5000),\n",
    "    (3, \"2011-01-25\", 550),\n",
    "    (3, \"2011-01-27\", 95),\n",
    "    (3, \"2011-01-30\", 2500),\n",
    "]\n",
    "columns = [\"AccountId\", \"TranDate\", \"TranAmt\"]\n",
    "df = spark.createDataFrame(data, columns)\n",
    "\n",
    "from pyspark.sql.functions import to_date\n",
    "df = df.withColumn(\"TranDate\", to_date(col(\"TranDate\"), \"yyyy-MM-dd\"))\n",
    "\n",
    "display(df)\n",
    "\n"
   ]
  },
  {
   "cell_type": "markdown",
   "metadata": {
    "application/vnd.databricks.v1+cell": {
     "cellMetadata": {
      "byteLimit": 2048000,
      "rowLimit": 10000
     },
     "inputWidgets": {},
     "nuid": "4acb9c7e-e2c3-4362-8053-1103fb42c0cd",
     "showTitle": false,
     "tableResultSettingsMap": {},
     "title": ""
    }
   },
   "source": [
    "odpowiednik SQL:\n",
    "`SUM(TranAmt) OVER (PARTITION BY AccountId ORDER BY TranDate) as RunTotalAmt`\n"
   ]
  },
  {
   "cell_type": "code",
   "execution_count": 0,
   "metadata": {
    "application/vnd.databricks.v1+cell": {
     "cellMetadata": {
      "byteLimit": 2048000,
      "rowLimit": 10000
     },
     "inputWidgets": {},
     "nuid": "edf9fef7-8ddf-4eb9-9e53-6c865d7944dd",
     "showTitle": false,
     "tableResultSettingsMap": {},
     "title": ""
    }
   },
   "outputs": [
    {
     "output_type": "display_data",
     "data": {
      "text/html": [
       "<style scoped>\n",
       "  .table-result-container {\n",
       "    max-height: 300px;\n",
       "    overflow: auto;\n",
       "  }\n",
       "  table, th, td {\n",
       "    border: 1px solid black;\n",
       "    border-collapse: collapse;\n",
       "  }\n",
       "  th, td {\n",
       "    padding: 5px;\n",
       "  }\n",
       "  th {\n",
       "    text-align: left;\n",
       "  }\n",
       "</style><div class='table-result-container'><table class='table-result'><thead style='background-color: white'><tr><th>AccountId</th><th>TranDate</th><th>TranAmt</th><th>RunTotalAmt</th></tr></thead><tbody><tr><td>1</td><td>2011-01-01</td><td>500</td><td>500</td></tr><tr><td>1</td><td>2011-01-15</td><td>50</td><td>550</td></tr><tr><td>1</td><td>2011-01-22</td><td>250</td><td>800</td></tr><tr><td>1</td><td>2011-01-24</td><td>75</td><td>875</td></tr><tr><td>1</td><td>2011-01-26</td><td>125</td><td>1000</td></tr><tr><td>1</td><td>2011-01-28</td><td>175</td><td>1175</td></tr><tr><td>2</td><td>2011-01-01</td><td>500</td><td>500</td></tr><tr><td>2</td><td>2011-01-15</td><td>50</td><td>550</td></tr><tr><td>2</td><td>2011-01-22</td><td>25</td><td>575</td></tr><tr><td>2</td><td>2011-01-23</td><td>125</td><td>700</td></tr><tr><td>2</td><td>2011-01-26</td><td>200</td><td>900</td></tr><tr><td>2</td><td>2011-01-29</td><td>250</td><td>1150</td></tr><tr><td>3</td><td>2011-01-01</td><td>500</td><td>500</td></tr><tr><td>3</td><td>2011-01-15</td><td>50</td><td>550</td></tr><tr><td>3</td><td>2011-01-22</td><td>5000</td><td>5550</td></tr><tr><td>3</td><td>2011-01-25</td><td>550</td><td>6100</td></tr><tr><td>3</td><td>2011-01-27</td><td>95</td><td>6195</td></tr><tr><td>3</td><td>2011-01-30</td><td>2500</td><td>8695</td></tr></tbody></table></div>"
      ]
     },
     "metadata": {
      "application/vnd.databricks.v1+output": {
       "addedWidgets": {},
       "aggData": [],
       "aggError": "",
       "aggOverflow": false,
       "aggSchema": [],
       "aggSeriesLimitReached": false,
       "aggType": "",
       "arguments": {},
       "columnCustomDisplayInfos": {},
       "data": [
        [
         1,
         "2011-01-01",
         500,
         500
        ],
        [
         1,
         "2011-01-15",
         50,
         550
        ],
        [
         1,
         "2011-01-22",
         250,
         800
        ],
        [
         1,
         "2011-01-24",
         75,
         875
        ],
        [
         1,
         "2011-01-26",
         125,
         1000
        ],
        [
         1,
         "2011-01-28",
         175,
         1175
        ],
        [
         2,
         "2011-01-01",
         500,
         500
        ],
        [
         2,
         "2011-01-15",
         50,
         550
        ],
        [
         2,
         "2011-01-22",
         25,
         575
        ],
        [
         2,
         "2011-01-23",
         125,
         700
        ],
        [
         2,
         "2011-01-26",
         200,
         900
        ],
        [
         2,
         "2011-01-29",
         250,
         1150
        ],
        [
         3,
         "2011-01-01",
         500,
         500
        ],
        [
         3,
         "2011-01-15",
         50,
         550
        ],
        [
         3,
         "2011-01-22",
         5000,
         5550
        ],
        [
         3,
         "2011-01-25",
         550,
         6100
        ],
        [
         3,
         "2011-01-27",
         95,
         6195
        ],
        [
         3,
         "2011-01-30",
         2500,
         8695
        ]
       ],
       "datasetInfos": [],
       "dbfsResultPath": null,
       "isJsonSchema": true,
       "metadata": {},
       "overflow": false,
       "plotOptions": {
        "customPlotOptions": {},
        "displayType": "table",
        "pivotAggregation": null,
        "pivotColumns": null,
        "xColumns": null,
        "yColumns": null
       },
       "removedWidgets": [],
       "schema": [
        {
         "metadata": "{}",
         "name": "AccountId",
         "type": "\"long\""
        },
        {
         "metadata": "{}",
         "name": "TranDate",
         "type": "\"date\""
        },
        {
         "metadata": "{}",
         "name": "TranAmt",
         "type": "\"long\""
        },
        {
         "metadata": "{}",
         "name": "RunTotalAmt",
         "type": "\"long\""
        }
       ],
       "type": "table"
      }
     },
     "output_type": "display_data"
    }
   ],
   "source": [
    "window_spec = Window.partitionBy(\"AccountId\").orderBy(\"TranDate\").rowsBetween(Window.unboundedPreceding, Window.currentRow)\n",
    "\n",
    "# Obliczenie bieżącej sumy transakcji\n",
    "df = df.withColumn(\"RunTotalAmt\", sum(\"TranAmt\").over(window_spec))\n",
    "\n",
    "display(df)"
   ]
  },
  {
   "cell_type": "markdown",
   "metadata": {
    "application/vnd.databricks.v1+cell": {
     "cellMetadata": {
      "byteLimit": 2048000,
      "rowLimit": 10000
     },
     "inputWidgets": {},
     "nuid": "37479290-2622-4bc3-9a1d-9aace282e9cc",
     "showTitle": false,
     "tableResultSettingsMap": {},
     "title": ""
    }
   },
   "source": [
    "Funkcje agregujące\n",
    "\n",
    "SQL: \n",
    "`AVG(TranAmt) OVER (PARTITION BY AccountId ORDER BY TranDate) as RunAvg`,\n",
    "\n",
    "`COUNT(*) OVER (PARTITION BY AccountId ORDER BY TranDate) as RunTranQty`,\n",
    "\n",
    "`MIN(TranAmt) OVER (PARTITION BY AccountId ORDER BY TranDate) as RunSmallAmt`,\n",
    "\n",
    "`MAX(TranAmt) OVER (PARTITION BY AccountId ORDER BY TranDate) as RunLargeAmt`"
   ]
  },
  {
   "cell_type": "code",
   "execution_count": 0,
   "metadata": {
    "application/vnd.databricks.v1+cell": {
     "cellMetadata": {
      "byteLimit": 2048000,
      "rowLimit": 10000
     },
     "inputWidgets": {},
     "nuid": "e8fa6448-f457-4b84-9987-5835fff84fab",
     "showTitle": false,
     "tableResultSettingsMap": {},
     "title": ""
    }
   },
   "outputs": [
    {
     "output_type": "display_data",
     "data": {
      "text/html": [
       "<style scoped>\n",
       "  .table-result-container {\n",
       "    max-height: 300px;\n",
       "    overflow: auto;\n",
       "  }\n",
       "  table, th, td {\n",
       "    border: 1px solid black;\n",
       "    border-collapse: collapse;\n",
       "  }\n",
       "  th, td {\n",
       "    padding: 5px;\n",
       "  }\n",
       "  th {\n",
       "    text-align: left;\n",
       "  }\n",
       "</style><div class='table-result-container'><table class='table-result'><thead style='background-color: white'><tr><th>AccountId</th><th>TranDate</th><th>TranAmt</th><th>RunTotalAmt</th><th>RunAvg</th><th>RunTranQty</th><th>RunSmallAmt</th><th>RunLargeAmt</th></tr></thead><tbody><tr><td>1</td><td>2011-01-01</td><td>500</td><td>500</td><td>500.0</td><td>1</td><td>500</td><td>500</td></tr><tr><td>1</td><td>2011-01-15</td><td>50</td><td>550</td><td>275.0</td><td>2</td><td>50</td><td>500</td></tr><tr><td>1</td><td>2011-01-22</td><td>250</td><td>800</td><td>266.6666666666667</td><td>3</td><td>50</td><td>500</td></tr><tr><td>1</td><td>2011-01-24</td><td>75</td><td>875</td><td>218.75</td><td>4</td><td>50</td><td>500</td></tr><tr><td>1</td><td>2011-01-26</td><td>125</td><td>1000</td><td>200.0</td><td>5</td><td>50</td><td>500</td></tr><tr><td>1</td><td>2011-01-28</td><td>175</td><td>1175</td><td>195.83333333333334</td><td>6</td><td>50</td><td>500</td></tr><tr><td>2</td><td>2011-01-01</td><td>500</td><td>500</td><td>500.0</td><td>1</td><td>500</td><td>500</td></tr><tr><td>2</td><td>2011-01-15</td><td>50</td><td>550</td><td>275.0</td><td>2</td><td>50</td><td>500</td></tr><tr><td>2</td><td>2011-01-22</td><td>25</td><td>575</td><td>191.66666666666666</td><td>3</td><td>25</td><td>500</td></tr><tr><td>2</td><td>2011-01-23</td><td>125</td><td>700</td><td>175.0</td><td>4</td><td>25</td><td>500</td></tr><tr><td>2</td><td>2011-01-26</td><td>200</td><td>900</td><td>180.0</td><td>5</td><td>25</td><td>500</td></tr><tr><td>2</td><td>2011-01-29</td><td>250</td><td>1150</td><td>191.66666666666666</td><td>6</td><td>25</td><td>500</td></tr><tr><td>3</td><td>2011-01-01</td><td>500</td><td>500</td><td>500.0</td><td>1</td><td>500</td><td>500</td></tr><tr><td>3</td><td>2011-01-15</td><td>50</td><td>550</td><td>275.0</td><td>2</td><td>50</td><td>500</td></tr><tr><td>3</td><td>2011-01-22</td><td>5000</td><td>5550</td><td>1850.0</td><td>3</td><td>50</td><td>5000</td></tr><tr><td>3</td><td>2011-01-25</td><td>550</td><td>6100</td><td>1525.0</td><td>4</td><td>50</td><td>5000</td></tr><tr><td>3</td><td>2011-01-27</td><td>95</td><td>6195</td><td>1239.0</td><td>5</td><td>50</td><td>5000</td></tr><tr><td>3</td><td>2011-01-30</td><td>2500</td><td>8695</td><td>1449.1666666666667</td><td>6</td><td>50</td><td>5000</td></tr></tbody></table></div>"
      ]
     },
     "metadata": {
      "application/vnd.databricks.v1+output": {
       "addedWidgets": {},
       "aggData": [],
       "aggError": "",
       "aggOverflow": false,
       "aggSchema": [],
       "aggSeriesLimitReached": false,
       "aggType": "",
       "arguments": {},
       "columnCustomDisplayInfos": {},
       "data": [
        [
         1,
         "2011-01-01",
         500,
         500,
         500.0,
         1,
         500,
         500
        ],
        [
         1,
         "2011-01-15",
         50,
         550,
         275.0,
         2,
         50,
         500
        ],
        [
         1,
         "2011-01-22",
         250,
         800,
         266.6666666666667,
         3,
         50,
         500
        ],
        [
         1,
         "2011-01-24",
         75,
         875,
         218.75,
         4,
         50,
         500
        ],
        [
         1,
         "2011-01-26",
         125,
         1000,
         200.0,
         5,
         50,
         500
        ],
        [
         1,
         "2011-01-28",
         175,
         1175,
         195.83333333333334,
         6,
         50,
         500
        ],
        [
         2,
         "2011-01-01",
         500,
         500,
         500.0,
         1,
         500,
         500
        ],
        [
         2,
         "2011-01-15",
         50,
         550,
         275.0,
         2,
         50,
         500
        ],
        [
         2,
         "2011-01-22",
         25,
         575,
         191.66666666666666,
         3,
         25,
         500
        ],
        [
         2,
         "2011-01-23",
         125,
         700,
         175.0,
         4,
         25,
         500
        ],
        [
         2,
         "2011-01-26",
         200,
         900,
         180.0,
         5,
         25,
         500
        ],
        [
         2,
         "2011-01-29",
         250,
         1150,
         191.66666666666666,
         6,
         25,
         500
        ],
        [
         3,
         "2011-01-01",
         500,
         500,
         500.0,
         1,
         500,
         500
        ],
        [
         3,
         "2011-01-15",
         50,
         550,
         275.0,
         2,
         50,
         500
        ],
        [
         3,
         "2011-01-22",
         5000,
         5550,
         1850.0,
         3,
         50,
         5000
        ],
        [
         3,
         "2011-01-25",
         550,
         6100,
         1525.0,
         4,
         50,
         5000
        ],
        [
         3,
         "2011-01-27",
         95,
         6195,
         1239.0,
         5,
         50,
         5000
        ],
        [
         3,
         "2011-01-30",
         2500,
         8695,
         1449.1666666666667,
         6,
         50,
         5000
        ]
       ],
       "datasetInfos": [],
       "dbfsResultPath": null,
       "isJsonSchema": true,
       "metadata": {},
       "overflow": false,
       "plotOptions": {
        "customPlotOptions": {},
        "displayType": "table",
        "pivotAggregation": null,
        "pivotColumns": null,
        "xColumns": null,
        "yColumns": null
       },
       "removedWidgets": [],
       "schema": [
        {
         "metadata": "{}",
         "name": "AccountId",
         "type": "\"long\""
        },
        {
         "metadata": "{}",
         "name": "TranDate",
         "type": "\"date\""
        },
        {
         "metadata": "{}",
         "name": "TranAmt",
         "type": "\"long\""
        },
        {
         "metadata": "{}",
         "name": "RunTotalAmt",
         "type": "\"long\""
        },
        {
         "metadata": "{}",
         "name": "RunAvg",
         "type": "\"double\""
        },
        {
         "metadata": "{}",
         "name": "RunTranQty",
         "type": "\"long\""
        },
        {
         "metadata": "{}",
         "name": "RunSmallAmt",
         "type": "\"long\""
        },
        {
         "metadata": "{}",
         "name": "RunLargeAmt",
         "type": "\"long\""
        }
       ],
       "type": "table"
      }
     },
     "output_type": "display_data"
    }
   ],
   "source": [
    "df1 = df.withColumn(\"RunAvg\", avg(\"TranAmt\").over(window_spec)) \\\n",
    "       .withColumn(\"RunTranQty\", count(\"TranAmt\").over(window_spec)) \\\n",
    "       .withColumn(\"RunSmallAmt\", min(\"TranAmt\").over(window_spec)) \\\n",
    "       .withColumn(\"RunLargeAmt\", max(\"TranAmt\").over(window_spec))\n",
    "\n",
    "display(df1)\n"
   ]
  },
  {
   "cell_type": "markdown",
   "metadata": {
    "application/vnd.databricks.v1+cell": {
     "cellMetadata": {
      "byteLimit": 2048000,
      "rowLimit": 10000
     },
     "inputWidgets": {},
     "nuid": "96ca2e05-c584-4aad-97ef-5534e130b90b",
     "showTitle": false,
     "tableResultSettingsMap": {},
     "title": ""
    }
   },
   "source": [
    "Definiowanie okna przesuwnego \n",
    "\n",
    "SQL: `AVG(TranAmt) OVER (PARTITION BY AccountId ORDER BY TranDate ROWS BETWEEN 2 PRECEDING AND CURRENT ROW) as SlideAvg`\n",
    "\n",
    "`COUNT(*) OVER (PARTITION BY AccountId ORDER BY TranDate ROWS BETWEEN 2 PRECEDING AND CURRENT ROW) as SlideQty,`\n",
    "\n",
    "`MIN(TranAmt) OVER (PARTITION BY AccountId ORDER BY TranDate ROWS BETWEEN 2 PRECEDING AND CURRENT ROW) as SlideMin,`\n",
    "\n",
    "`MAX(TranAmt) OVER (PARTITION BY AccountId ORDER BY TranDate ROWS BETWEEN 2 PRECEDING AND CURRENT ROW) as SlideMax,`\n",
    "\n",
    "`SUM(TranAmt) OVER (PARTITION BY AccountId ORDER BY TranDate ROWS BETWEEN 2 PRECEDING AND CURRENT ROW) as SlideTotal`\n"
   ]
  },
  {
   "cell_type": "code",
   "execution_count": 0,
   "metadata": {
    "application/vnd.databricks.v1+cell": {
     "cellMetadata": {
      "byteLimit": 2048000,
      "rowLimit": 10000
     },
     "inputWidgets": {},
     "nuid": "96f55bbe-7cae-4e8c-b1b8-3b61139379f9",
     "showTitle": false,
     "tableResultSettingsMap": {},
     "title": ""
    }
   },
   "outputs": [
    {
     "output_type": "display_data",
     "data": {
      "text/html": [
       "<style scoped>\n",
       "  .table-result-container {\n",
       "    max-height: 300px;\n",
       "    overflow: auto;\n",
       "  }\n",
       "  table, th, td {\n",
       "    border: 1px solid black;\n",
       "    border-collapse: collapse;\n",
       "  }\n",
       "  th, td {\n",
       "    padding: 5px;\n",
       "  }\n",
       "  th {\n",
       "    text-align: left;\n",
       "  }\n",
       "</style><div class='table-result-container'><table class='table-result'><thead style='background-color: white'><tr><th>AccountId</th><th>TranDate</th><th>TranAmt</th><th>RunTotalAmt</th><th>SlideAvg</th><th>SlideQty</th><th>SlideMin</th><th>SlideMax</th><th>SlideTotal</th></tr></thead><tbody><tr><td>1</td><td>2011-01-01</td><td>500</td><td>500</td><td>500.0</td><td>1</td><td>500</td><td>500</td><td>500</td></tr><tr><td>1</td><td>2011-01-15</td><td>50</td><td>550</td><td>275.0</td><td>2</td><td>50</td><td>500</td><td>550</td></tr><tr><td>1</td><td>2011-01-22</td><td>250</td><td>800</td><td>266.6666666666667</td><td>3</td><td>50</td><td>500</td><td>800</td></tr><tr><td>1</td><td>2011-01-24</td><td>75</td><td>875</td><td>125.0</td><td>3</td><td>50</td><td>250</td><td>375</td></tr><tr><td>1</td><td>2011-01-26</td><td>125</td><td>1000</td><td>150.0</td><td>3</td><td>75</td><td>250</td><td>450</td></tr><tr><td>1</td><td>2011-01-28</td><td>175</td><td>1175</td><td>125.0</td><td>3</td><td>75</td><td>175</td><td>375</td></tr><tr><td>2</td><td>2011-01-01</td><td>500</td><td>500</td><td>500.0</td><td>1</td><td>500</td><td>500</td><td>500</td></tr><tr><td>2</td><td>2011-01-15</td><td>50</td><td>550</td><td>275.0</td><td>2</td><td>50</td><td>500</td><td>550</td></tr><tr><td>2</td><td>2011-01-22</td><td>25</td><td>575</td><td>191.66666666666666</td><td>3</td><td>25</td><td>500</td><td>575</td></tr><tr><td>2</td><td>2011-01-23</td><td>125</td><td>700</td><td>66.66666666666667</td><td>3</td><td>25</td><td>125</td><td>200</td></tr><tr><td>2</td><td>2011-01-26</td><td>200</td><td>900</td><td>116.66666666666667</td><td>3</td><td>25</td><td>200</td><td>350</td></tr><tr><td>2</td><td>2011-01-29</td><td>250</td><td>1150</td><td>191.66666666666666</td><td>3</td><td>125</td><td>250</td><td>575</td></tr><tr><td>3</td><td>2011-01-01</td><td>500</td><td>500</td><td>500.0</td><td>1</td><td>500</td><td>500</td><td>500</td></tr><tr><td>3</td><td>2011-01-15</td><td>50</td><td>550</td><td>275.0</td><td>2</td><td>50</td><td>500</td><td>550</td></tr><tr><td>3</td><td>2011-01-22</td><td>5000</td><td>5550</td><td>1850.0</td><td>3</td><td>50</td><td>5000</td><td>5550</td></tr><tr><td>3</td><td>2011-01-25</td><td>550</td><td>6100</td><td>1866.6666666666667</td><td>3</td><td>50</td><td>5000</td><td>5600</td></tr><tr><td>3</td><td>2011-01-27</td><td>95</td><td>6195</td><td>1881.6666666666667</td><td>3</td><td>95</td><td>5000</td><td>5645</td></tr><tr><td>3</td><td>2011-01-30</td><td>2500</td><td>8695</td><td>1048.3333333333333</td><td>3</td><td>95</td><td>2500</td><td>3145</td></tr></tbody></table></div>"
      ]
     },
     "metadata": {
      "application/vnd.databricks.v1+output": {
       "addedWidgets": {},
       "aggData": [],
       "aggError": "",
       "aggOverflow": false,
       "aggSchema": [],
       "aggSeriesLimitReached": false,
       "aggType": "",
       "arguments": {},
       "columnCustomDisplayInfos": {},
       "data": [
        [
         1,
         "2011-01-01",
         500,
         500,
         500.0,
         1,
         500,
         500,
         500
        ],
        [
         1,
         "2011-01-15",
         50,
         550,
         275.0,
         2,
         50,
         500,
         550
        ],
        [
         1,
         "2011-01-22",
         250,
         800,
         266.6666666666667,
         3,
         50,
         500,
         800
        ],
        [
         1,
         "2011-01-24",
         75,
         875,
         125.0,
         3,
         50,
         250,
         375
        ],
        [
         1,
         "2011-01-26",
         125,
         1000,
         150.0,
         3,
         75,
         250,
         450
        ],
        [
         1,
         "2011-01-28",
         175,
         1175,
         125.0,
         3,
         75,
         175,
         375
        ],
        [
         2,
         "2011-01-01",
         500,
         500,
         500.0,
         1,
         500,
         500,
         500
        ],
        [
         2,
         "2011-01-15",
         50,
         550,
         275.0,
         2,
         50,
         500,
         550
        ],
        [
         2,
         "2011-01-22",
         25,
         575,
         191.66666666666666,
         3,
         25,
         500,
         575
        ],
        [
         2,
         "2011-01-23",
         125,
         700,
         66.66666666666667,
         3,
         25,
         125,
         200
        ],
        [
         2,
         "2011-01-26",
         200,
         900,
         116.66666666666667,
         3,
         25,
         200,
         350
        ],
        [
         2,
         "2011-01-29",
         250,
         1150,
         191.66666666666666,
         3,
         125,
         250,
         575
        ],
        [
         3,
         "2011-01-01",
         500,
         500,
         500.0,
         1,
         500,
         500,
         500
        ],
        [
         3,
         "2011-01-15",
         50,
         550,
         275.0,
         2,
         50,
         500,
         550
        ],
        [
         3,
         "2011-01-22",
         5000,
         5550,
         1850.0,
         3,
         50,
         5000,
         5550
        ],
        [
         3,
         "2011-01-25",
         550,
         6100,
         1866.6666666666667,
         3,
         50,
         5000,
         5600
        ],
        [
         3,
         "2011-01-27",
         95,
         6195,
         1881.6666666666667,
         3,
         95,
         5000,
         5645
        ],
        [
         3,
         "2011-01-30",
         2500,
         8695,
         1048.3333333333333,
         3,
         95,
         2500,
         3145
        ]
       ],
       "datasetInfos": [],
       "dbfsResultPath": null,
       "isJsonSchema": true,
       "metadata": {},
       "overflow": false,
       "plotOptions": {
        "customPlotOptions": {},
        "displayType": "table",
        "pivotAggregation": null,
        "pivotColumns": null,
        "xColumns": null,
        "yColumns": null
       },
       "removedWidgets": [],
       "schema": [
        {
         "metadata": "{}",
         "name": "AccountId",
         "type": "\"long\""
        },
        {
         "metadata": "{}",
         "name": "TranDate",
         "type": "\"date\""
        },
        {
         "metadata": "{}",
         "name": "TranAmt",
         "type": "\"long\""
        },
        {
         "metadata": "{}",
         "name": "RunTotalAmt",
         "type": "\"long\""
        },
        {
         "metadata": "{}",
         "name": "SlideAvg",
         "type": "\"double\""
        },
        {
         "metadata": "{}",
         "name": "SlideQty",
         "type": "\"long\""
        },
        {
         "metadata": "{}",
         "name": "SlideMin",
         "type": "\"long\""
        },
        {
         "metadata": "{}",
         "name": "SlideMax",
         "type": "\"long\""
        },
        {
         "metadata": "{}",
         "name": "SlideTotal",
         "type": "\"long\""
        }
       ],
       "type": "table"
      }
     },
     "output_type": "display_data"
    }
   ],
   "source": [
    "\n",
    "sliding_window_spec = Window.partitionBy(\"AccountId\").orderBy(\"TranDate\").rowsBetween(-2, 0)\n",
    "\n",
    "df2 = df.withColumn(\"SlideAvg\", avg(\"TranAmt\").over(sliding_window_spec)) \\\n",
    "       .withColumn(\"SlideQty\", count(\"TranAmt\").over(sliding_window_spec)) \\\n",
    "       .withColumn(\"SlideMin\", min(\"TranAmt\").over(sliding_window_spec)) \\\n",
    "       .withColumn(\"SlideMax\", max(\"TranAmt\").over(sliding_window_spec)) \\\n",
    "       .withColumn(\"SlideTotal\", sum(\"TranAmt\").over(sliding_window_spec))\n",
    "\n",
    "display(df2)\n"
   ]
  },
  {
   "cell_type": "markdown",
   "metadata": {
    "application/vnd.databricks.v1+cell": {
     "cellMetadata": {
      "byteLimit": 2048000,
      "rowLimit": 10000
     },
     "inputWidgets": {},
     "nuid": "82b2075d-2627-4ed6-9605-57802034c5f8",
     "showTitle": false,
     "tableResultSettingsMap": {},
     "title": ""
    }
   },
   "source": [
    "## Funkcje okienkowe"
   ]
  },
  {
   "cell_type": "markdown",
   "metadata": {
    "application/vnd.databricks.v1+cell": {
     "cellMetadata": {
      "byteLimit": 2048000,
      "rowLimit": 10000
     },
     "inputWidgets": {},
     "nuid": "4c4f0ab7-bfb3-4a9c-acf2-11d4a84f4b9b",
     "showTitle": false,
     "tableResultSettingsMap": {},
     "title": ""
    }
   },
   "source": [
    "LEAD – pobiera wartość z następnego wiersza\n",
    "\n",
    "LAG – pobiera wartość z poprzedniego wiersza\n",
    "\n"
   ]
  },
  {
   "cell_type": "code",
   "execution_count": 0,
   "metadata": {
    "application/vnd.databricks.v1+cell": {
     "cellMetadata": {
      "byteLimit": 2048000,
      "rowLimit": 10000
     },
     "inputWidgets": {},
     "nuid": "61f5428a-7dac-4148-8060-8ec60ef24405",
     "showTitle": false,
     "tableResultSettingsMap": {},
     "title": ""
    }
   },
   "outputs": [
    {
     "output_type": "display_data",
     "data": {
      "text/html": [
       "<style scoped>\n",
       "  .table-result-container {\n",
       "    max-height: 300px;\n",
       "    overflow: auto;\n",
       "  }\n",
       "  table, th, td {\n",
       "    border: 1px solid black;\n",
       "    border-collapse: collapse;\n",
       "  }\n",
       "  th, td {\n",
       "    padding: 5px;\n",
       "  }\n",
       "  th {\n",
       "    text-align: left;\n",
       "  }\n",
       "</style><div class='table-result-container'><table class='table-result'><thead style='background-color: white'><tr><th>TranAmt</th><th>NextTranAmt</th><th>PrevTranAmt</th></tr></thead><tbody><tr><td>500</td><td>50</td><td>null</td></tr><tr><td>50</td><td>250</td><td>500</td></tr><tr><td>250</td><td>75</td><td>50</td></tr><tr><td>75</td><td>125</td><td>250</td></tr><tr><td>125</td><td>175</td><td>75</td></tr><tr><td>175</td><td>null</td><td>125</td></tr><tr><td>500</td><td>50</td><td>null</td></tr><tr><td>50</td><td>25</td><td>500</td></tr><tr><td>25</td><td>125</td><td>50</td></tr><tr><td>125</td><td>200</td><td>25</td></tr><tr><td>200</td><td>250</td><td>125</td></tr><tr><td>250</td><td>null</td><td>200</td></tr><tr><td>500</td><td>50</td><td>null</td></tr><tr><td>50</td><td>5000</td><td>500</td></tr><tr><td>5000</td><td>550</td><td>50</td></tr><tr><td>550</td><td>95</td><td>5000</td></tr><tr><td>95</td><td>2500</td><td>550</td></tr><tr><td>2500</td><td>null</td><td>95</td></tr></tbody></table></div>"
      ]
     },
     "metadata": {
      "application/vnd.databricks.v1+output": {
       "addedWidgets": {},
       "aggData": [],
       "aggError": "",
       "aggOverflow": false,
       "aggSchema": [],
       "aggSeriesLimitReached": false,
       "aggType": "",
       "arguments": {},
       "columnCustomDisplayInfos": {},
       "data": [
        [
         500,
         50,
         null
        ],
        [
         50,
         250,
         500
        ],
        [
         250,
         75,
         50
        ],
        [
         75,
         125,
         250
        ],
        [
         125,
         175,
         75
        ],
        [
         175,
         null,
         125
        ],
        [
         500,
         50,
         null
        ],
        [
         50,
         25,
         500
        ],
        [
         25,
         125,
         50
        ],
        [
         125,
         200,
         25
        ],
        [
         200,
         250,
         125
        ],
        [
         250,
         null,
         200
        ],
        [
         500,
         50,
         null
        ],
        [
         50,
         5000,
         500
        ],
        [
         5000,
         550,
         50
        ],
        [
         550,
         95,
         5000
        ],
        [
         95,
         2500,
         550
        ],
        [
         2500,
         null,
         95
        ]
       ],
       "datasetInfos": [],
       "dbfsResultPath": null,
       "isJsonSchema": true,
       "metadata": {},
       "overflow": false,
       "plotOptions": {
        "customPlotOptions": {},
        "displayType": "table",
        "pivotAggregation": null,
        "pivotColumns": null,
        "xColumns": null,
        "yColumns": null
       },
       "removedWidgets": [],
       "schema": [
        {
         "metadata": "{}",
         "name": "TranAmt",
         "type": "\"long\""
        },
        {
         "metadata": "{}",
         "name": "NextTranAmt",
         "type": "\"long\""
        },
        {
         "metadata": "{}",
         "name": "PrevTranAmt",
         "type": "\"long\""
        }
       ],
       "type": "table"
      }
     },
     "output_type": "display_data"
    }
   ],
   "source": [
    "from pyspark.sql.functions import lead, lag\n",
    "\n",
    "window_spec_no_frame = Window.partitionBy(\"AccountId\").orderBy(\"TranDate\")\n",
    "\n",
    "dfL = df.withColumn(\"NextTranAmt\", lead(\"TranAmt\").over(window_spec_no_frame)) \\\n",
    "        .withColumn(\"PrevTranAmt\", lag(\"TranAmt\").over(window_spec_no_frame))\n",
    "\n",
    "display(dfL.select(\"TranAmt\", \"NextTranAmt\", \"PrevTranAmt\"))"
   ]
  },
  {
   "cell_type": "markdown",
   "metadata": {
    "application/vnd.databricks.v1+cell": {
     "cellMetadata": {
      "byteLimit": 2048000,
      "rowLimit": 10000
     },
     "inputWidgets": {},
     "nuid": "104bf628-1877-4fdc-a504-a89f50b1a562",
     "showTitle": false,
     "tableResultSettingsMap": {},
     "title": ""
    }
   },
   "source": [
    "\n",
    "FIRST_VALUE – zwraca pierwszą wartość w oknie\n",
    "\n",
    "LAST_VALUE – zwraca ostatnią wartość w oknie"
   ]
  },
  {
   "cell_type": "code",
   "execution_count": 0,
   "metadata": {
    "application/vnd.databricks.v1+cell": {
     "cellMetadata": {
      "byteLimit": 2048000,
      "rowLimit": 10000
     },
     "inputWidgets": {},
     "nuid": "ee8c8f78-ce91-4cf8-9e85-e6b39c57a640",
     "showTitle": false,
     "tableResultSettingsMap": {},
     "title": ""
    }
   },
   "outputs": [
    {
     "output_type": "display_data",
     "data": {
      "text/html": [
       "<style scoped>\n",
       "  .table-result-container {\n",
       "    max-height: 300px;\n",
       "    overflow: auto;\n",
       "  }\n",
       "  table, th, td {\n",
       "    border: 1px solid black;\n",
       "    border-collapse: collapse;\n",
       "  }\n",
       "  th, td {\n",
       "    padding: 5px;\n",
       "  }\n",
       "  th {\n",
       "    text-align: left;\n",
       "  }\n",
       "</style><div class='table-result-container'><table class='table-result'><thead style='background-color: white'><tr><th>TranAmt</th><th>FirstTranAmt</th><th>LastTranAmt</th></tr></thead><tbody><tr><td>500</td><td>500</td><td>500</td></tr><tr><td>50</td><td>500</td><td>50</td></tr><tr><td>250</td><td>500</td><td>250</td></tr><tr><td>75</td><td>500</td><td>75</td></tr><tr><td>125</td><td>500</td><td>125</td></tr><tr><td>175</td><td>500</td><td>175</td></tr><tr><td>500</td><td>500</td><td>500</td></tr><tr><td>50</td><td>500</td><td>50</td></tr><tr><td>25</td><td>500</td><td>25</td></tr><tr><td>125</td><td>500</td><td>125</td></tr><tr><td>200</td><td>500</td><td>200</td></tr><tr><td>250</td><td>500</td><td>250</td></tr><tr><td>500</td><td>500</td><td>500</td></tr><tr><td>50</td><td>500</td><td>50</td></tr><tr><td>5000</td><td>500</td><td>5000</td></tr><tr><td>550</td><td>500</td><td>550</td></tr><tr><td>95</td><td>500</td><td>95</td></tr><tr><td>2500</td><td>500</td><td>2500</td></tr></tbody></table></div>"
      ]
     },
     "metadata": {
      "application/vnd.databricks.v1+output": {
       "addedWidgets": {},
       "aggData": [],
       "aggError": "",
       "aggOverflow": false,
       "aggSchema": [],
       "aggSeriesLimitReached": false,
       "aggType": "",
       "arguments": {},
       "columnCustomDisplayInfos": {},
       "data": [
        [
         500,
         500,
         500
        ],
        [
         50,
         500,
         50
        ],
        [
         250,
         500,
         250
        ],
        [
         75,
         500,
         75
        ],
        [
         125,
         500,
         125
        ],
        [
         175,
         500,
         175
        ],
        [
         500,
         500,
         500
        ],
        [
         50,
         500,
         50
        ],
        [
         25,
         500,
         25
        ],
        [
         125,
         500,
         125
        ],
        [
         200,
         500,
         200
        ],
        [
         250,
         500,
         250
        ],
        [
         500,
         500,
         500
        ],
        [
         50,
         500,
         50
        ],
        [
         5000,
         500,
         5000
        ],
        [
         550,
         500,
         550
        ],
        [
         95,
         500,
         95
        ],
        [
         2500,
         500,
         2500
        ]
       ],
       "datasetInfos": [],
       "dbfsResultPath": null,
       "isJsonSchema": true,
       "metadata": {},
       "overflow": false,
       "plotOptions": {
        "customPlotOptions": {},
        "displayType": "table",
        "pivotAggregation": null,
        "pivotColumns": null,
        "xColumns": null,
        "yColumns": null
       },
       "removedWidgets": [],
       "schema": [
        {
         "metadata": "{}",
         "name": "TranAmt",
         "type": "\"long\""
        },
        {
         "metadata": "{}",
         "name": "FirstTranAmt",
         "type": "\"long\""
        },
        {
         "metadata": "{}",
         "name": "LastTranAmt",
         "type": "\"long\""
        }
       ],
       "type": "table"
      }
     },
     "output_type": "display_data"
    }
   ],
   "source": [
    "from pyspark.sql.functions import first, last\n",
    "\n",
    "dfV = df.withColumn(\"FirstTranAmt\", first(\"TranAmt\").over(window_spec)) \\\n",
    "       .withColumn(\"LastTranAmt\", last(\"TranAmt\").over(window_spec))\n",
    "\n",
    "display(dfV.select(\"TranAmt\", \"FirstTranAmt\", \"LastTranAmt\"))"
   ]
  },
  {
   "cell_type": "markdown",
   "metadata": {
    "application/vnd.databricks.v1+cell": {
     "cellMetadata": {
      "byteLimit": 2048000,
      "rowLimit": 10000
     },
     "inputWidgets": {},
     "nuid": "7b383895-02c6-410d-bd9f-30550b5abf3d",
     "showTitle": false,
     "tableResultSettingsMap": {},
     "title": ""
    }
   },
   "source": [
    "ROW_NUMBER – nadaje numer wiersza w oknie"
   ]
  },
  {
   "cell_type": "code",
   "execution_count": 0,
   "metadata": {
    "application/vnd.databricks.v1+cell": {
     "cellMetadata": {
      "byteLimit": 2048000,
      "rowLimit": 10000
     },
     "inputWidgets": {},
     "nuid": "dd6337a2-e744-4539-81b4-357a223d059a",
     "showTitle": false,
     "tableResultSettingsMap": {},
     "title": ""
    }
   },
   "outputs": [
    {
     "output_type": "display_data",
     "data": {
      "text/html": [
       "<style scoped>\n",
       "  .table-result-container {\n",
       "    max-height: 300px;\n",
       "    overflow: auto;\n",
       "  }\n",
       "  table, th, td {\n",
       "    border: 1px solid black;\n",
       "    border-collapse: collapse;\n",
       "  }\n",
       "  th, td {\n",
       "    padding: 5px;\n",
       "  }\n",
       "  th {\n",
       "    text-align: left;\n",
       "  }\n",
       "</style><div class='table-result-container'><table class='table-result'><thead style='background-color: white'><tr><th>AccountId</th><th>TranDate</th><th>TranAmt</th><th>RunTotalAmt</th><th>RowNum</th></tr></thead><tbody><tr><td>1</td><td>2011-01-01</td><td>500</td><td>500</td><td>1</td></tr><tr><td>1</td><td>2011-01-15</td><td>50</td><td>550</td><td>2</td></tr><tr><td>1</td><td>2011-01-22</td><td>250</td><td>800</td><td>3</td></tr><tr><td>1</td><td>2011-01-24</td><td>75</td><td>875</td><td>4</td></tr><tr><td>1</td><td>2011-01-26</td><td>125</td><td>1000</td><td>5</td></tr><tr><td>1</td><td>2011-01-28</td><td>175</td><td>1175</td><td>6</td></tr><tr><td>2</td><td>2011-01-01</td><td>500</td><td>500</td><td>1</td></tr><tr><td>2</td><td>2011-01-15</td><td>50</td><td>550</td><td>2</td></tr><tr><td>2</td><td>2011-01-22</td><td>25</td><td>575</td><td>3</td></tr><tr><td>2</td><td>2011-01-23</td><td>125</td><td>700</td><td>4</td></tr><tr><td>2</td><td>2011-01-26</td><td>200</td><td>900</td><td>5</td></tr><tr><td>2</td><td>2011-01-29</td><td>250</td><td>1150</td><td>6</td></tr><tr><td>3</td><td>2011-01-01</td><td>500</td><td>500</td><td>1</td></tr><tr><td>3</td><td>2011-01-15</td><td>50</td><td>550</td><td>2</td></tr><tr><td>3</td><td>2011-01-22</td><td>5000</td><td>5550</td><td>3</td></tr><tr><td>3</td><td>2011-01-25</td><td>550</td><td>6100</td><td>4</td></tr><tr><td>3</td><td>2011-01-27</td><td>95</td><td>6195</td><td>5</td></tr><tr><td>3</td><td>2011-01-30</td><td>2500</td><td>8695</td><td>6</td></tr></tbody></table></div>"
      ]
     },
     "metadata": {
      "application/vnd.databricks.v1+output": {
       "addedWidgets": {},
       "aggData": [],
       "aggError": "",
       "aggOverflow": false,
       "aggSchema": [],
       "aggSeriesLimitReached": false,
       "aggType": "",
       "arguments": {},
       "columnCustomDisplayInfos": {},
       "data": [
        [
         1,
         "2011-01-01",
         500,
         500,
         1
        ],
        [
         1,
         "2011-01-15",
         50,
         550,
         2
        ],
        [
         1,
         "2011-01-22",
         250,
         800,
         3
        ],
        [
         1,
         "2011-01-24",
         75,
         875,
         4
        ],
        [
         1,
         "2011-01-26",
         125,
         1000,
         5
        ],
        [
         1,
         "2011-01-28",
         175,
         1175,
         6
        ],
        [
         2,
         "2011-01-01",
         500,
         500,
         1
        ],
        [
         2,
         "2011-01-15",
         50,
         550,
         2
        ],
        [
         2,
         "2011-01-22",
         25,
         575,
         3
        ],
        [
         2,
         "2011-01-23",
         125,
         700,
         4
        ],
        [
         2,
         "2011-01-26",
         200,
         900,
         5
        ],
        [
         2,
         "2011-01-29",
         250,
         1150,
         6
        ],
        [
         3,
         "2011-01-01",
         500,
         500,
         1
        ],
        [
         3,
         "2011-01-15",
         50,
         550,
         2
        ],
        [
         3,
         "2011-01-22",
         5000,
         5550,
         3
        ],
        [
         3,
         "2011-01-25",
         550,
         6100,
         4
        ],
        [
         3,
         "2011-01-27",
         95,
         6195,
         5
        ],
        [
         3,
         "2011-01-30",
         2500,
         8695,
         6
        ]
       ],
       "datasetInfos": [],
       "dbfsResultPath": null,
       "isJsonSchema": true,
       "metadata": {},
       "overflow": false,
       "plotOptions": {
        "customPlotOptions": {},
        "displayType": "table",
        "pivotAggregation": null,
        "pivotColumns": null,
        "xColumns": null,
        "yColumns": null
       },
       "removedWidgets": [],
       "schema": [
        {
         "metadata": "{}",
         "name": "AccountId",
         "type": "\"long\""
        },
        {
         "metadata": "{}",
         "name": "TranDate",
         "type": "\"date\""
        },
        {
         "metadata": "{}",
         "name": "TranAmt",
         "type": "\"long\""
        },
        {
         "metadata": "{}",
         "name": "RunTotalAmt",
         "type": "\"long\""
        },
        {
         "metadata": "{}",
         "name": "RowNum",
         "type": "\"integer\""
        }
       ],
       "type": "table"
      }
     },
     "output_type": "display_data"
    }
   ],
   "source": [
    "from pyspark.sql.functions import row_number\n",
    "\n",
    "dfRN = df.withColumn(\"RowNum\", row_number().over(window_spec))\n",
    "\n",
    "display(dfRN)"
   ]
  },
  {
   "cell_type": "markdown",
   "metadata": {
    "application/vnd.databricks.v1+cell": {
     "cellMetadata": {
      "byteLimit": 2048000,
      "rowLimit": 10000
     },
     "inputWidgets": {},
     "nuid": "38d239b8-c1cf-4f5f-a7d7-1b848e968244",
     "showTitle": false,
     "tableResultSettingsMap": {},
     "title": ""
    }
   },
   "source": []
  }
 ],
 "metadata": {
  "application/vnd.databricks.v1+notebook": {
   "computePreferences": null,
   "dashboards": [],
   "environmentMetadata": {
    "base_environment": "",
    "environment_version": "1"
   },
   "inputWidgetPreferences": null,
   "language": "python",
   "notebookMetadata": {
    "pythonIndentUnit": 4
   },
   "notebookName": "Cwiczenia4_2",
   "widgets": {}
  }
 },
 "nbformat": 4,
 "nbformat_minor": 0
}